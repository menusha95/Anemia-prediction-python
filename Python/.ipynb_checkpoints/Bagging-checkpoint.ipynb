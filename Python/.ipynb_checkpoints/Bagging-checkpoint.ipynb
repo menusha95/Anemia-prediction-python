{
 "cells": [
  {
   "cell_type": "code",
   "execution_count": 158,
   "metadata": {},
   "outputs": [],
   "source": [
    "from sklearn import model_selection\n",
    "from sklearn.ensemble import BaggingClassifier\n",
    "from sklearn.tree import DecisionTreeClassifier\n",
    "from sklearn.naive_bayes import GaussianNB\n",
    "import pandas as pd\n",
    "import seaborn as sns\n",
    "import matplotlib.pyplot as plt\n",
    "from sklearn.ensemble import RandomForestClassifier\n",
    "from sklearn.metrics import confusion_matrix,classification_report\n",
    "from sklearn.model_selection import train_test_split\n",
    "from pandas.plotting import scatter_matrix\n"
   ]
  },
  {
   "cell_type": "code",
   "execution_count": 159,
   "metadata": {},
   "outputs": [],
   "source": [
    "url = ('/Users/menusha/Desktop/TestPY/Anemia_NEW_edit.csv')\n",
    "anemia = pd.read_csv(url, header = 0)"
   ]
  },
  {
   "cell_type": "code",
   "execution_count": 169,
   "metadata": {},
   "outputs": [
    {
     "name": "stdout",
     "output_type": "stream",
     "text": [
      "0.9462962962962962\n"
     ]
    }
   ],
   "source": [
    "array = anemia.values\n",
    "X = array[:,0:6]\n",
    "Y = array[:,6]\n",
    "kfold = model_selection.KFold(n_splits=10, random_state=seed)\n",
    "cart = GaussianNB()\n",
    "model = BaggingClassifier(base_estimator=cart, n_estimators=num_trees, random_state=seed)\n",
    "results = model_selection.cross_val_score(model, X, Y, cv=kfold)\n",
    "print(results.mean())"
   ]
  },
  {
   "cell_type": "code",
   "execution_count": 170,
   "metadata": {},
   "outputs": [
    {
     "name": "stdout",
     "output_type": "stream",
     "text": [
      "              precision    recall  f1-score   support\n",
      "\n",
      "         ACD       1.00      0.91      0.95        96\n",
      "     IronDef       0.98      1.00      0.99        85\n",
      "      Normal       0.92      1.00      0.96        81\n",
      "  ThalaMinor       1.00      1.00      1.00        77\n",
      "\n",
      "   micro avg       0.97      0.97      0.97       339\n",
      "   macro avg       0.97      0.98      0.97       339\n",
      "weighted avg       0.98      0.97      0.97       339\n",
      "\n"
     ]
    }
   ],
   "source": [
    "print(classification_report(y_test,pred_rfc))\n"
   ]
  },
  {
   "cell_type": "code",
   "execution_count": null,
   "metadata": {},
   "outputs": [],
   "source": []
  }
 ],
 "metadata": {
  "kernelspec": {
   "display_name": "Python 3",
   "language": "python",
   "name": "python3"
  },
  "language_info": {
   "codemirror_mode": {
    "name": "ipython",
    "version": 3
   },
   "file_extension": ".py",
   "mimetype": "text/x-python",
   "name": "python",
   "nbconvert_exporter": "python",
   "pygments_lexer": "ipython3",
   "version": "3.7.2"
  }
 },
 "nbformat": 4,
 "nbformat_minor": 2
}
