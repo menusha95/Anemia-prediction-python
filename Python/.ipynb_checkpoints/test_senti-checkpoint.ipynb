{
 "cells": [
  {
   "cell_type": "code",
   "execution_count": 11,
   "metadata": {},
   "outputs": [],
   "source": [
    "import logging\n",
    "import pandas as pd\n",
    "import numpy as np\n",
    "from numpy import random\n",
    "import gensim\n",
    "import nltk\n",
    "from sklearn.model_selection import train_test_split\n",
    "from sklearn.feature_extraction.text import CountVectorizer, TfidfVectorizer\n",
    "from sklearn.metrics import accuracy_score, confusion_matrix\n",
    "import matplotlib.pyplot as plt\n",
    "from nltk.corpus import stopwords\n",
    "import re\n",
    "from bs4 import BeautifulSoup\n",
    "\n",
    "%matplotlib inline"
   ]
  },
  {
   "cell_type": "code",
   "execution_count": 12,
   "metadata": {},
   "outputs": [
    {
     "data": {
      "text/html": [
       "<div>\n",
       "<style scoped>\n",
       "    .dataframe tbody tr th:only-of-type {\n",
       "        vertical-align: middle;\n",
       "    }\n",
       "\n",
       "    .dataframe tbody tr th {\n",
       "        vertical-align: top;\n",
       "    }\n",
       "\n",
       "    .dataframe thead th {\n",
       "        text-align: right;\n",
       "    }\n",
       "</style>\n",
       "<table border=\"1\" class=\"dataframe\">\n",
       "  <thead>\n",
       "    <tr style=\"text-align: right;\">\n",
       "      <th></th>\n",
       "      <th>post</th>\n",
       "      <th>tags</th>\n",
       "    </tr>\n",
       "  </thead>\n",
       "  <tbody>\n",
       "    <tr>\n",
       "      <th>0</th>\n",
       "      <td>Visual Studio has a lot of features. The firs...</td>\n",
       "      <td>VisualStudio</td>\n",
       "    </tr>\n",
       "    <tr>\n",
       "      <th>1</th>\n",
       "      <td>Users have to spend high cost for Enterprise L...</td>\n",
       "      <td>VisualStudio</td>\n",
       "    </tr>\n",
       "    <tr>\n",
       "      <th>2</th>\n",
       "      <td>I've used various flavors of Eclipse and Intel...</td>\n",
       "      <td>VisualStudio</td>\n",
       "    </tr>\n",
       "    <tr>\n",
       "      <th>3</th>\n",
       "      <td>There's really not much to dislike about Visua...</td>\n",
       "      <td>VisualStudio</td>\n",
       "    </tr>\n",
       "    <tr>\n",
       "      <th>4</th>\n",
       "      <td>Microsoft visual studio is developing software...</td>\n",
       "      <td>VisualStudio</td>\n",
       "    </tr>\n",
       "    <tr>\n",
       "      <th>5</th>\n",
       "      <td>The code compilation error messages are someti...</td>\n",
       "      <td>VisualStudio</td>\n",
       "    </tr>\n",
       "    <tr>\n",
       "      <th>6</th>\n",
       "      <td>IntelliJ-IDEA It is a Java integrated software...</td>\n",
       "      <td>IntelliJIdea</td>\n",
       "    </tr>\n",
       "    <tr>\n",
       "      <th>7</th>\n",
       "      <td>Intellij is one of the Best IDE available for ...</td>\n",
       "      <td>IntelliJIdea</td>\n",
       "    </tr>\n",
       "    <tr>\n",
       "      <th>8</th>\n",
       "      <td>In my experience this tool is a great and must...</td>\n",
       "      <td>IntelliJIdea</td>\n",
       "    </tr>\n",
       "    <tr>\n",
       "      <th>9</th>\n",
       "      <td>It intensifies the work load upon the CPU esp...</td>\n",
       "      <td>IntelliJIdea</td>\n",
       "    </tr>\n",
       "    <tr>\n",
       "      <th>10</th>\n",
       "      <td>What I like most are the shortcuts. Every othe...</td>\n",
       "      <td>IntelliJIdea</td>\n",
       "    </tr>\n",
       "    <tr>\n",
       "      <th>11</th>\n",
       "      <td>The product is constantly updated, which is a ...</td>\n",
       "      <td>IntelliJIdea</td>\n",
       "    </tr>\n",
       "    <tr>\n",
       "      <th>12</th>\n",
       "      <td>Apache NetBeans is the place where I build and...</td>\n",
       "      <td>netbeans</td>\n",
       "    </tr>\n",
       "    <tr>\n",
       "      <th>13</th>\n",
       "      <td>There is no minus point about Apache NetBeans....</td>\n",
       "      <td>netbeans</td>\n",
       "    </tr>\n",
       "    <tr>\n",
       "      <th>14</th>\n",
       "      <td>I see Netbeans as more than just a text editor...</td>\n",
       "      <td>netbeans</td>\n",
       "    </tr>\n",
       "    <tr>\n",
       "      <th>15</th>\n",
       "      <td>I have used Netbeans for the past three year p...</td>\n",
       "      <td>netbeans</td>\n",
       "    </tr>\n",
       "    <tr>\n",
       "      <th>16</th>\n",
       "      <td>What I love about Apache's NetBeans is that it...</td>\n",
       "      <td>netbeans</td>\n",
       "    </tr>\n",
       "    <tr>\n",
       "      <th>17</th>\n",
       "      <td>What I like least about NetBeans is that it ca...</td>\n",
       "      <td>netbeans</td>\n",
       "    </tr>\n",
       "  </tbody>\n",
       "</table>\n",
       "</div>"
      ],
      "text/plain": [
       "                                                 post          tags\n",
       "0    Visual Studio has a lot of features. The firs...  VisualStudio\n",
       "1   Users have to spend high cost for Enterprise L...  VisualStudio\n",
       "2   I've used various flavors of Eclipse and Intel...  VisualStudio\n",
       "3   There's really not much to dislike about Visua...  VisualStudio\n",
       "4   Microsoft visual studio is developing software...  VisualStudio\n",
       "5   The code compilation error messages are someti...  VisualStudio\n",
       "6   IntelliJ-IDEA It is a Java integrated software...  IntelliJIdea\n",
       "7   Intellij is one of the Best IDE available for ...  IntelliJIdea\n",
       "8   In my experience this tool is a great and must...  IntelliJIdea\n",
       "9    It intensifies the work load upon the CPU esp...  IntelliJIdea\n",
       "10  What I like most are the shortcuts. Every othe...  IntelliJIdea\n",
       "11  The product is constantly updated, which is a ...  IntelliJIdea\n",
       "12  Apache NetBeans is the place where I build and...     netbeans \n",
       "13  There is no minus point about Apache NetBeans....     netbeans \n",
       "14  I see Netbeans as more than just a text editor...     netbeans \n",
       "15  I have used Netbeans for the past three year p...     netbeans \n",
       "16  What I love about Apache's NetBeans is that it...     netbeans \n",
       "17  What I like least about NetBeans is that it ca...     netbeans "
      ]
     },
     "execution_count": 12,
     "metadata": {},
     "output_type": "execute_result"
    }
   ],
   "source": [
    "df = pd.read_csv('/Users/menusha/Desktop/sentiment_data.csv')\n",
    "df = df[pd.notnull(df['tags'])]\n",
    "df"
   ]
  },
  {
   "cell_type": "code",
   "execution_count": 13,
   "metadata": {},
   "outputs": [
    {
     "data": {
      "text/plain": [
       "1984"
      ]
     },
     "execution_count": 13,
     "metadata": {},
     "output_type": "execute_result"
    }
   ],
   "source": [
    "df['post'].apply(lambda x: len(x.split(' '))).sum()\n"
   ]
  },
  {
   "cell_type": "code",
   "execution_count": 15,
   "metadata": {},
   "outputs": [],
   "source": [
    "def print_plot(index):\n",
    "    example = df[df.index == index][['post', 'tags']].values[0]\n",
    "    if len(example) > 0:\n",
    "        print(example[0])\n",
    "        print('Tag:', example[1])"
   ]
  },
  {
   "cell_type": "code",
   "execution_count": 16,
   "metadata": {},
   "outputs": [
    {
     "name": "stdout",
     "output_type": "stream",
     "text": [
      "What I like most are the shortcuts. Every other IDE also has shortcuts but IntelliJ (and Jetbrains generally) has done a great job with theirs. At least for men, they seem intuitive. - Offers many, many features but still manages to have a great performance. - Sounds trivial, but the settings are well structured and searchable! Almost everything is customizable and if not there is probably a plugin for want you want it to do. - I do a lot of web-programming so I appreciate small little features like native less, sass support, live reloading or even showing the color next to a color code in CSS stylesheets. Even though Intellij should be Java focused, this also applies for Javascript and its complex ecosystem (I used React, JSX, Angular, Elm). - Solid Versioning Support with git as well as svn, both within the console and the UI. - Great Maven support. Auto-save, great search function. Overall I could list all the features I like, many you can find in other IDEs as well. But when using IntelliJ, I just feel it gets out of the way and lets you work & if you don't know how to do something, there is usually a nice \"intelligent\" trick on how to do it, or it is not hard to find online. - The student/academic license is really appreciated.\n",
      "Tag: IntelliJIdea\n"
     ]
    }
   ],
   "source": [
    "print_plot(10)\n"
   ]
  },
  {
   "cell_type": "code",
   "execution_count": 17,
   "metadata": {},
   "outputs": [],
   "source": [
    "REPLACE_BY_SPACE_RE = re.compile('[/(){}\\[\\]\\|@,;]')\n",
    "BAD_SYMBOLS_RE = re.compile('[^0-9a-z #+_]')\n",
    "STOPWORDS = set(stopwords.words('english'))\n",
    "\n",
    "def clean_text(text):\n",
    "    \"\"\"\n",
    "        text: a string\n",
    "        \n",
    "        return: modified initial string\n",
    "    \"\"\"\n",
    "    text = BeautifulSoup(text, \"lxml\").text # HTML decoding\n",
    "    text = text.lower() # lowercase text\n",
    "    text = REPLACE_BY_SPACE_RE.sub(' ', text) # replace REPLACE_BY_SPACE_RE symbols by space in text\n",
    "    text = BAD_SYMBOLS_RE.sub('', text) # delete symbols which are in BAD_SYMBOLS_RE from text\n",
    "    text = ' '.join(word for word in text.split() if word not in STOPWORDS) # delete stopwors from text\n",
    "    return text"
   ]
  },
  {
   "cell_type": "code",
   "execution_count": 18,
   "metadata": {},
   "outputs": [],
   "source": [
    "df['post'] = df['post'].apply(clean_text)"
   ]
  },
  {
   "cell_type": "code",
   "execution_count": 19,
   "metadata": {},
   "outputs": [
    {
     "name": "stdout",
     "output_type": "stream",
     "text": [
      "like shortcuts every ide also shortcuts intellij jetbrains generally done great job least men seem intuitive offers many many features still manages great performance sounds trivial settings well structured searchable almost everything customizable probably plugin want want lot webprogramming appreciate small little features like native less sass support live reloading even showing color next color code css stylesheets even though intellij java focused also applies javascript complex ecosystem used react jsx angular elm solid versioning support git well svn within console ui great maven support autosave great search function overall could list features like many find ides well using intellij feel gets way lets work dont know something usually nice intelligent trick hard find online student academic license really appreciated\n",
      "Tag: IntelliJIdea\n"
     ]
    }
   ],
   "source": [
    "print_plot(10)"
   ]
  },
  {
   "cell_type": "code",
   "execution_count": 20,
   "metadata": {},
   "outputs": [
    {
     "data": {
      "text/plain": [
       "1084"
      ]
     },
     "execution_count": 20,
     "metadata": {},
     "output_type": "execute_result"
    }
   ],
   "source": [
    "df['post'].apply(lambda x: len(x.split(' '))).sum()"
   ]
  },
  {
   "cell_type": "code",
   "execution_count": 21,
   "metadata": {},
   "outputs": [],
   "source": [
    "X = df.post\n",
    "y = df.tags\n",
    "X_train, X_test, y_train, y_test = train_test_split(X, y, test_size=0.3, random_state = 42)"
   ]
  },
  {
   "cell_type": "code",
   "execution_count": 31,
   "metadata": {},
   "outputs": [
    {
     "data": {
      "text/plain": [
       "Pipeline(memory=None,\n",
       "     steps=[('vect', CountVectorizer(analyzer='word', binary=False, decode_error='strict',\n",
       "        dtype=<class 'numpy.int64'>, encoding='utf-8', input='content',\n",
       "        lowercase=True, max_df=1.0, max_features=None, min_df=1,\n",
       "        ngram_range=(1, 1), preprocessor=None, stop_words=None,\n",
       "        strip...ki',\n",
       "           metric_params=None, n_jobs=None, n_neighbors=5, p=2,\n",
       "           weights='uniform'))])"
      ]
     },
     "execution_count": 31,
     "metadata": {},
     "output_type": "execute_result"
    }
   ],
   "source": [
    "from sklearn.naive_bayes import MultinomialNB\n",
    "from sklearn.pipeline import Pipeline\n",
    "from sklearn.svm import SVC\n",
    "from sklearn.feature_extraction.text import TfidfTransformer\n",
    "from sklearn.neighbors import KNeighborsClassifier\n",
    "\n",
    "nb = Pipeline([('vect', CountVectorizer()),\n",
    "               ('tfidf', TfidfTransformer()),\n",
    "               ('clf', KNeighborsClassifier()),\n",
    "              ])\n",
    "nb.fit(X_train, y_train)"
   ]
  },
  {
   "cell_type": "code",
   "execution_count": 32,
   "metadata": {},
   "outputs": [],
   "source": [
    "my_tags = ['VisualStudio','IntelliJIdea','netbeans']"
   ]
  },
  {
   "cell_type": "code",
   "execution_count": 33,
   "metadata": {},
   "outputs": [
    {
     "name": "stdout",
     "output_type": "stream",
     "text": [
      "accuracy 0.3333333333333333\n",
      "              precision    recall  f1-score   support\n",
      "\n",
      "VisualStudio       0.20      1.00      0.33         1\n",
      "IntelliJIdea       0.00      0.00      0.00         4\n",
      "    netbeans       1.00      1.00      1.00         1\n",
      "\n",
      "   micro avg       0.33      0.33      0.33         6\n",
      "   macro avg       0.40      0.67      0.44         6\n",
      "weighted avg       0.20      0.33      0.22         6\n",
      "\n",
      "CPU times: user 18.2 ms, sys: 8.52 ms, total: 26.8 ms\n",
      "Wall time: 28.2 ms\n"
     ]
    },
    {
     "name": "stderr",
     "output_type": "stream",
     "text": [
      "/Library/Frameworks/Python.framework/Versions/3.7/lib/python3.7/site-packages/sklearn/metrics/classification.py:1143: UndefinedMetricWarning: Precision and F-score are ill-defined and being set to 0.0 in labels with no predicted samples.\n",
      "  'precision', 'predicted', average, warn_for)\n"
     ]
    }
   ],
   "source": [
    "%%time\n",
    "from sklearn.metrics import classification_report\n",
    "y_pred = nb.predict(X_test)\n",
    "\n",
    "print('accuracy %s' % accuracy_score(y_pred, y_test))\n",
    "print(classification_report(y_test, y_pred,target_names=my_tags))"
   ]
  },
  {
   "cell_type": "code",
   "execution_count": null,
   "metadata": {},
   "outputs": [],
   "source": []
  }
 ],
 "metadata": {
  "kernelspec": {
   "display_name": "Python 3",
   "language": "python",
   "name": "python3"
  },
  "language_info": {
   "codemirror_mode": {
    "name": "ipython",
    "version": 3
   },
   "file_extension": ".py",
   "mimetype": "text/x-python",
   "name": "python",
   "nbconvert_exporter": "python",
   "pygments_lexer": "ipython3",
   "version": "3.7.2"
  }
 },
 "nbformat": 4,
 "nbformat_minor": 2
}
