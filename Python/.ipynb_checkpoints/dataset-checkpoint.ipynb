{
 "cells": [
  {
   "cell_type": "code",
   "execution_count": 2,
   "metadata": {},
   "outputs": [],
   "source": [
    "import csv\n",
    "import pandas as pd\n",
    "import requests\n",
    "from bs4 import BeautifulSoup\n",
    "import re\n",
    "from nltk.corpus import stopwords\n"
   ]
  },
  {
   "cell_type": "code",
   "execution_count": 30,
   "metadata": {},
   "outputs": [],
   "source": [
    "r = requests.get('http://api.stackexchange.com/2.2/questions?page=3&pagesize=100&order=desc&sort=votes&site=stackoverflow&filter=!9Z(-wwK4f')\n",
    "x = r.json()\n",
    "df = pd.DataFrame(x['items'])\n",
    "dt = df['title']\n",
    "\n",
    "REPLACE_BY_SPACE_RE = re.compile('[/(){}\\[\\]\\|@,;]')\n",
    "BAD_SYMBOLS_RE = re.compile('[^0-9a-z #+_]')\n",
    "STOPWORDS = set(stopwords.words('english'))\n",
    "\n",
    "def clean_text(text):\n",
    "    \"\"\"\n",
    "        text: a string\n",
    "        \n",
    "        return: modified initial string\n",
    "    \"\"\"\n",
    "    text = BeautifulSoup(text, \"lxml\").text # HTML decoding\n",
    "    text = text.lower() # lowercase text\n",
    "    text = REPLACE_BY_SPACE_RE.sub(' ', text) # replace REPLACE_BY_SPACE_RE symbols by space in text\n",
    "    text = BAD_SYMBOLS_RE.sub('', text) # delete symbols which are in BAD_SYMBOLS_RE from text\n",
    "    text = ' '.join(word for word in text.split() if word not in STOPWORDS) # delete stopwors from text\n",
    "    return text\n",
    "# dt.to_csv('/Users/menusha/Desktop/thamashi_data_3.csv')"
   ]
  },
  {
   "cell_type": "code",
   "execution_count": 31,
   "metadata": {},
   "outputs": [
    {
     "data": {
      "text/plain": [
       "0                               pass variable reference\n",
       "1           least astonishment mutable default argument\n",
       "2                   need unordered list without bullets\n",
       "3                                 encode url javascript\n",
       "4                          test empty javascript object\n",
       "5       catch multiple exceptions one line except block\n",
       "6                    storing objects html5 localstorage\n",
       "7         validate decimal numbers javascript isnumeric\n",
       "8                            git export like svn export\n",
       "9     static_cast dynamic_cast const_cast reinterpre...\n",
       "10     403 forbidden vs 401 unauthorized http responses\n",
       "11             sort array objects string property value\n",
       "12                          best way iterate dictionary\n",
       "13                                  refresh page jquery\n",
       "14                                 add table row jquery\n",
       "15                                   cast result malloc\n",
       "16                         detect click outside element\n",
       "17          understanding python super __init__ methods\n",
       "18                             php delete element array\n",
       "19                creating multiline strings javascript\n",
       "20                              add new keys dictionary\n",
       "21                               empty array javascript\n",
       "22                                    decide use nodejs\n",
       "23      set default parameter value javascript function\n",
       "24    message src refspec master match pushing commi...\n",
       "25            fix androidosnetworkonmainthreadexception\n",
       "26                                         prop vs attr\n",
       "27                     round 2 decimal places necessary\n",
       "28                               database indexing work\n",
       "29              get youtube video thumbnail youtube api\n",
       "                            ...                        \n",
       "70              basic rules idioms operator overloading\n",
       "71                        parse string float int python\n",
       "72        daylight saving time time zone best practices\n",
       "73                                        shell 21 mean\n",
       "74                    prettyprint json using javascript\n",
       "75                                        jsonp created\n",
       "76                            javascript prototype work\n",
       "77                          get current date javascript\n",
       "78                  showing files changed two revisions\n",
       "79                          write switch statement ruby\n",
       "80                  difference decimal float double net\n",
       "81                   echo newline bash prints literal n\n",
       "82           implements runnable vs extends thread java\n",
       "83            homebrew install specific version formula\n",
       "84                 clone git repository specific folder\n",
       "85        double star asterisk star asterisk parameters\n",
       "86                              modify specified commit\n",
       "87               select element multiple classes jquery\n",
       "88                           format microsoft json date\n",
       "89                                  show changes staged\n",
       "90                           comparing two branches git\n",
       "91                 push tag remote repository using git\n",
       "92                   make div 100 height browser window\n",
       "93                                   log n mean exactly\n",
       "94                           nullreferenceexception fix\n",
       "95                            catch multiple exceptions\n",
       "96                                             use self\n",
       "97                                    reflection useful\n",
       "98                          data binding work angularjs\n",
       "99            using directives inside outside namespace\n",
       "Name: title, Length: 100, dtype: object"
      ]
     },
     "execution_count": 31,
     "metadata": {},
     "output_type": "execute_result"
    }
   ],
   "source": [
    "df['title'] = df['title'].apply(clean_text)\n",
    "df['title'] "
   ]
  },
  {
   "cell_type": "code",
   "execution_count": 32,
   "metadata": {},
   "outputs": [
    {
     "name": "stderr",
     "output_type": "stream",
     "text": [
      "/Library/Frameworks/Python.framework/Versions/3.7/lib/python3.7/site-packages/ipykernel_launcher.py:1: FutureWarning: The signature of `Series.to_csv` was aligned to that of `DataFrame.to_csv`, and argument 'header' will change its default value from False to True: please pass an explicit value to suppress this warning.\n",
      "  \"\"\"Entry point for launching an IPython kernel.\n"
     ]
    }
   ],
   "source": [
    "df['title'].to_csv('/Users/menusha/Desktop/thamashi_data_3.csv')"
   ]
  },
  {
   "cell_type": "code",
   "execution_count": null,
   "metadata": {},
   "outputs": [],
   "source": []
  }
 ],
 "metadata": {
  "kernelspec": {
   "display_name": "Python 3",
   "language": "python",
   "name": "python3"
  },
  "language_info": {
   "codemirror_mode": {
    "name": "ipython",
    "version": 3
   },
   "file_extension": ".py",
   "mimetype": "text/x-python",
   "name": "python",
   "nbconvert_exporter": "python",
   "pygments_lexer": "ipython3",
   "version": "3.7.2"
  }
 },
 "nbformat": 4,
 "nbformat_minor": 2
}
