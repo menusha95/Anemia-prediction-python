{
 "cells": [
  {
   "cell_type": "code",
   "execution_count": 4,
   "metadata": {},
   "outputs": [],
   "source": [
    "import logging\n",
    "import pandas as pd\n",
    "import numpy as np\n",
    "from numpy import random\n",
    "import gensim\n",
    "import nltk\n",
    "from sklearn.model_selection import train_test_split\n",
    "from sklearn.feature_extraction.text import CountVectorizer, TfidfVectorizer\n",
    "from sklearn.metrics import accuracy_score, confusion_matrix\n",
    "import matplotlib.pyplot as plt\n",
    "from nltk.corpus import stopwords\n",
    "import re\n",
    "from bs4 import BeautifulSoup\n",
    "from sklearn.naive_bayes import GaussianNB\n",
    "from sklearn.neighbors import KNeighborsClassifier\n",
    "from sklearn import model_selection\n",
    "from sklearn.linear_model import LogisticRegression\n",
    "from sklearn.tree import DecisionTreeClassifier\n",
    "from sklearn.svm import SVC\n",
    "from sklearn.ensemble import VotingClassifier\n",
    "from sklearn.ensemble import BaggingClassifier\n",
    "# from sklearn.cross_validation import train_test_split, KFold\n",
    "from sklearn.model_selection import train_test_split\n",
    "from sklearn.feature_extraction.text import CountVectorizer\n",
    "from sklearn.feature_extraction.text import TfidfTransformer\n",
    "from sklearn.naive_bayes import MultinomialNB\n",
    "from sklearn.pipeline import Pipeline, FeatureUnion, make_pipeline\n",
    "from sklearn.feature_extraction.text import TfidfTransformer\n",
    "from sklearn.base import BaseEstimator, TransformerMixin\n",
    "from nltk.collocations import BigramCollocationFinder\n",
    "from nltk.metrics import BigramAssocMeasures\n",
    "from nltk.tokenize import RegexpTokenizer\n",
    "from textblob import TextBlob\n",
    "\n",
    "#from keras import Sequential\n",
    "#from keras.layers import Embedding, LSTM, Dense, Dropout\n",
    "%matplotlib inline"
   ]
  },
  {
   "cell_type": "code",
   "execution_count": 6,
   "metadata": {},
   "outputs": [
    {
     "ename": "TypeError",
     "evalue": "__init__() missing 1 required positional argument: 'text'",
     "output_type": "error",
     "traceback": [
      "\u001b[0;31m---------------------------------------------------------------------------\u001b[0m",
      "\u001b[0;31mTypeError\u001b[0m                                 Traceback (most recent call last)",
      "\u001b[0;32m<ipython-input-6-eeba6538e690>\u001b[0m in \u001b[0;36m<module>\u001b[0;34m\u001b[0m\n\u001b[1;32m     38\u001b[0m \u001b[0;34m\u001b[0m\u001b[0m\n\u001b[1;32m     39\u001b[0m nb = Pipeline([(\"features\", FeatureUnion([('tfidf', TfidfVectorizer(min_df=1, binary = True, use_idf = False, norm = False)),('bigram',  CountVectorizer(ngram_range =(2, 2), vocabulary = lbig,  binary = True))\n\u001b[0;32m---> 40\u001b[0;31m                                                                              ])),('clf', MultinomialNB()),('text',TextBlob())])\n\u001b[0m\u001b[1;32m     41\u001b[0m \u001b[0mnb\u001b[0m\u001b[0;34m.\u001b[0m\u001b[0mfit\u001b[0m\u001b[0;34m(\u001b[0m\u001b[0mX_train\u001b[0m\u001b[0;34m,\u001b[0m \u001b[0my_train\u001b[0m\u001b[0;34m)\u001b[0m\u001b[0;34m\u001b[0m\u001b[0;34m\u001b[0m\u001b[0m\n\u001b[1;32m     42\u001b[0m \u001b[0;34m\u001b[0m\u001b[0m\n",
      "\u001b[0;31mTypeError\u001b[0m: __init__() missing 1 required positional argument: 'text'"
     ]
    }
   ],
   "source": [
    "df = pd.read_csv('/Users/menusha/Desktop/thamashi_data_1.csv', encoding=\"latin-1\")\n",
    "df['label'] = df['sentiment'].map({'usability': 0,'stability': 1})\n",
    "X = df['review']\n",
    "y = df['label']\n",
    "\n",
    "seed = 7\n",
    "\n",
    "def bigram_word_feats(wordsarray):\n",
    "    #Converting the array of posts to a string\n",
    "    words=\"\".join(wordsarray)\n",
    "    words.lower()\n",
    "    #Splitting the post to bigrams\n",
    "    finder1 = BigramCollocationFinder.from_words((words.lower()).split())\n",
    "    #Filtering by bigrams which have been repeated at least thrice\n",
    "    finder1.apply_freq_filter(3)\n",
    "    bigram_measures = BigramAssocMeasures()\n",
    "    #returning bigrams according to scores of chi square\n",
    "    return([\" \".join(d[0]) for d in finder1.score_ngrams(bigram_measures.chi_sq)])\n",
    "# TfidfVectorizer is the powerful equivalent of CountVectorizer for TF-IDF weights\n",
    "def tfidf_extractor(corpus, ngram_range=(1,1)):\n",
    "    #\n",
    "    vectorizer = TfidfVectorizer(min_df=1, \n",
    "                                 norm='l2',\n",
    "                                 smooth_idf=True,\n",
    "                                 use_idf=True,\n",
    "                                 ngram_range=ngram_range)\n",
    "    features = vectorizer.fit_transform(corpus)\n",
    "    return vectorizer, features\n",
    "\n",
    "lbig = {}\n",
    "#variable for POS\n",
    "raw =[]\n",
    "\n",
    "lbig = bigram_word_feats(X)\n",
    "X_train, X_test, y_train, y_test = train_test_split(X, y, test_size=0.3, random_state = 21)\n",
    "\n",
    "\n",
    "\n",
    "nb = Pipeline([(\"features\", FeatureUnion([('tfidf', TfidfVectorizer(min_df=1, binary = True, use_idf = False, norm = False)),('bigram',  CountVectorizer(ngram_range =(2, 2), vocabulary = lbig,  binary = True))\n",
    "                                                                             ])),('clf', MultinomialNB()),('text',TextBlob())])\n",
    "nb.fit(X_train, y_train)\n",
    "\n",
    "\n",
    "from sklearn.metrics import classification_report\n",
    "y_pred = nb.predict(X_test)\n",
    "my_tags = ['usability','stability']\n",
    "print('accuracy %s' % accuracy_score(y_pred, y_test))\n",
    "print(classification_report(y_test, y_pred,target_names=my_tags))\n",
    "\n"
   ]
  },
  {
   "cell_type": "code",
   "execution_count": null,
   "metadata": {},
   "outputs": [],
   "source": []
  },
  {
   "cell_type": "code",
   "execution_count": null,
   "metadata": {},
   "outputs": [],
   "source": []
  },
  {
   "cell_type": "code",
   "execution_count": null,
   "metadata": {},
   "outputs": [],
   "source": []
  }
 ],
 "metadata": {
  "kernelspec": {
   "display_name": "Python 3",
   "language": "python",
   "name": "python3"
  },
  "language_info": {
   "codemirror_mode": {
    "name": "ipython",
    "version": 3
   },
   "file_extension": ".py",
   "mimetype": "text/x-python",
   "name": "python",
   "nbconvert_exporter": "python",
   "pygments_lexer": "ipython3",
   "version": "3.7.2"
  }
 },
 "nbformat": 4,
 "nbformat_minor": 2
}
