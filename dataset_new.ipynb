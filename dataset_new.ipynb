{
 "cells": [
  {
   "cell_type": "code",
   "execution_count": 2,
   "metadata": {},
   "outputs": [],
   "source": [
    "import csv\n",
    "import pandas as pd\n",
    "import requests\n",
    "from bs4 import BeautifulSoup\n",
    "import re\n",
    "from nltk.corpus import stopwords\n"
   ]
  },
  {
   "cell_type": "code",
   "execution_count": 6,
   "metadata": {},
   "outputs": [],
   "source": [
    "r = requests.get('http://api.stackexchange.com/2.2/questions?page=5&pagesize=100&order=desc&sort=votes&site=stackoverflow&filter=!9Z(-wwK4f')\n",
    "x = r.json()\n",
    "df = pd.DataFrame(x['items'])\n",
    "dt = df['title']\n",
    "\n",
    "REPLACE_BY_SPACE_RE = re.compile('[/(){}\\[\\]\\|@,;]')\n",
    "BAD_SYMBOLS_RE = re.compile('[^0-9a-z #+_]')\n",
    "STOPWORDS = set(stopwords.words('english'))\n",
    "\n",
    "def clean_text(text):\n",
    "    \"\"\"\n",
    "        text: a string\n",
    "        \n",
    "        return: modified initial string\n",
    "    \"\"\"\n",
    "    text = BeautifulSoup(text, \"lxml\").text # HTML decoding\n",
    "    text = text.lower() # lowercase text\n",
    "    text = REPLACE_BY_SPACE_RE.sub(' ', text) # replace REPLACE_BY_SPACE_RE symbols by space in text\n",
    "    text = BAD_SYMBOLS_RE.sub('', text) # delete symbols which are in BAD_SYMBOLS_RE from text\n",
    "    text = ' '.join(word for word in text.split() if word not in STOPWORDS) # delete stopwors from text\n",
    "    return text\n",
    "# dt.to_csv('/Users/menusha/Desktop/thamashi_data_3.csv')"
   ]
  },
  {
   "cell_type": "code",
   "execution_count": 7,
   "metadata": {},
   "outputs": [
    {
     "data": {
      "text/plain": [
       "0                                new keyword javascript\n",
       "1                      retrieve hash current commit git\n",
       "2          difference proxy server reverse proxy server\n",
       "3                         differences gitignore gitkeep\n",
       "4             difference static class singleton pattern\n",
       "5                  java inner class static nested class\n",
       "6     facebook disable browsers integrated developer...\n",
       "7                                  convert bytes string\n",
       "8                           print without newline space\n",
       "9     align checkboxes labels consistently crossbrow...\n",
       "10                            avoid java code jsp files\n",
       "11    config error configuration section cannot used...\n",
       "12                                 delete file git repo\n",
       "13    warning pushdefault unset implicit value chang...\n",
       "14               check string startswith another string\n",
       "15                    create html button acts like link\n",
       "16                   access environment variable values\n",
       "17                                smart pointer use one\n",
       "18                   finding duplicate values sql table\n",
       "19                                    inversion control\n",
       "20                                parse json javascript\n",
       "21                          cycles family tree software\n",
       "22                  generate random alphanumeric string\n",
       "23                         compare two dates javascript\n",
       "24                           ssh permissions open error\n",
       "25          regular cast vs static_cast vs dynamic_cast\n",
       "26             import sql file using command line mysql\n",
       "27                    reason c#s reuse variable foreach\n",
       "28                     whats difference method function\n",
       "29                  easy way pull latest git submodules\n",
       "                            ...                        \n",
       "70    get selected value dropdown list using javascript\n",
       "71                                   noncapturing group\n",
       "72                         viewing unpushed git commits\n",
       "73                     proper use idisposable interface\n",
       "74                             sort mapkey value values\n",
       "75                        differences lodash underscore\n",
       "76                    convert string integer javascript\n",
       "77                typescript would use place javascript\n",
       "78    fix javalangunsupportedclassversionerror unsup...\n",
       "79                            debug nodejs applications\n",
       "80                                       tail recursion\n",
       "81                            recover dropped stash git\n",
       "82                                   hidden features c#\n",
       "83                                  multiple order linq\n",
       "84                          case insensitive search vim\n",
       "85                 best way detect mobile device jquery\n",
       "86                       remove trailing newline python\n",
       "87    javascript check variable exists defined initi...\n",
       "88                     real user sys mean output time 1\n",
       "89                               show tables postgresql\n",
       "90                                   redirect html page\n",
       "91    recursively find files current subfolders base...\n",
       "92        generate random number two numbers javascript\n",
       "93                             duplicate whole line vim\n",
       "94                                force favicon refresh\n",
       "95                         purpose var keyword use omit\n",
       "96                java support default parameter values\n",
       "97        meta charsetutf8 vs meta httpequivcontenttype\n",
       "98                make current git branch master branch\n",
       "99                     branch previous commit using git\n",
       "Name: title, Length: 100, dtype: object"
      ]
     },
     "execution_count": 7,
     "metadata": {},
     "output_type": "execute_result"
    }
   ],
   "source": [
    "df['title'] = df['title'].apply(clean_text)\n",
    "df['title'] "
   ]
  },
  {
   "cell_type": "code",
   "execution_count": 8,
   "metadata": {},
   "outputs": [
    {
     "name": "stderr",
     "output_type": "stream",
     "text": [
      "/Library/Frameworks/Python.framework/Versions/3.7/lib/python3.7/site-packages/ipykernel_launcher.py:1: FutureWarning: The signature of `Series.to_csv` was aligned to that of `DataFrame.to_csv`, and argument 'header' will change its default value from False to True: please pass an explicit value to suppress this warning.\n",
      "  \"\"\"Entry point for launching an IPython kernel.\n"
     ]
    }
   ],
   "source": [
    "df['title'].to_csv('/Users/menusha/Desktop/thamashi_data_3.csv')"
   ]
  },
  {
   "cell_type": "code",
   "execution_count": null,
   "metadata": {},
   "outputs": [],
   "source": []
  }
 ],
 "metadata": {
  "kernelspec": {
   "display_name": "Python 3",
   "language": "python",
   "name": "python3"
  },
  "language_info": {
   "codemirror_mode": {
    "name": "ipython",
    "version": 3
   },
   "file_extension": ".py",
   "mimetype": "text/x-python",
   "name": "python",
   "nbconvert_exporter": "python",
   "pygments_lexer": "ipython3",
   "version": "3.7.2"
  }
 },
 "nbformat": 4,
 "nbformat_minor": 2
}
